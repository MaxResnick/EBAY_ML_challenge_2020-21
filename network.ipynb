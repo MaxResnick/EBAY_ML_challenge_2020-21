{
 "cells": [
  {
   "cell_type": "code",
   "execution_count": 1,
   "metadata": {},
   "outputs": [],
   "source": [
    "import pandas as pd"
   ]
  },
  {
   "cell_type": "code",
   "execution_count": 2,
   "metadata": {},
   "outputs": [],
   "source": [
    "column_titles_data = ['category', 'primary_image_url', 'all_image_urls', 'attributes', 'index']\n",
    "column_titles_validation = ['A', 'B']\n",
    "\n",
    "tsv_data = pd.read_csv(\"mlchallenge_set_2021.tsv\", \n",
    "                       sep='\\t',\n",
    "                       lineterminator='\\n',\n",
    "                       names=column_titles_data,\n",
    "                       header=None\n",
    "                      )\n",
    "\n",
    "tsv_data_validation = pd.read_csv(\"mlchallenge_set_validation.tsv\", \n",
    "                                  sep='\\t',\n",
    "                                  lineterminator='\\n',\n",
    "                                  names=column_titles_validation,\n",
    "                                  header=None\n",
    "                                 )"
   ]
  },
  {
   "cell_type": "code",
   "execution_count": 3,
   "metadata": {
    "scrolled": true
   },
   "outputs": [],
   "source": [
    "import re\n",
    "\n",
    "def parse_attributes(df1):\n",
    "    attributes = []\n",
    "    for attrib in df1['attributes']:\n",
    "        t1 = re.compile(\":+\").split(attrib[1:-1])\n",
    "        for i in range(len(t1)):\n",
    "            t1[i] = t1[i].split(',')\n",
    "        attr = {}\n",
    "        for i in range(len(t1)-1):\n",
    "            if i != len(t1)-2:\n",
    "                attr[t1[i][-1]] = t1[i+1][:-1]\n",
    "            else:\n",
    "                attr[t1[i][-1]] = t1[i+1]\n",
    "        attributes.append(attr)\n",
    "    df1['attributes'] = attributes"
   ]
  },
  {
   "cell_type": "code",
   "execution_count": 4,
   "metadata": {},
   "outputs": [],
   "source": [
    "parse_attributes(tsv_data)"
   ]
  },
  {
   "cell_type": "code",
   "execution_count": 14,
   "metadata": {
    "scrolled": true
   },
   "outputs": [
    {
     "name": "stdout",
     "output_type": "stream",
     "text": [
      "{'Style': ['Cleats'], 'Color': ['White Orange'], \"US Shoe Size (Men's)\": ['15'], 'Brand': ['Nike']}\n",
      "{\"US Shoe Size (Men's)\": ['10.5'], 'Material': ['Enter item specific valuePLEASE READ BEFORE BIDDIN'], 'Brand': ['Nike'], 'Style': ['Basketball Shoes'], 'Color': ['Multi-Color']}\n",
      "{'Style': ['Athletic Sneakers'], \"US Shoe Size (Men's)\": ['12'], 'Width': ['Medium (D', ' M)'], 'Brand': ['Nike'], 'Color': ['Silver']}\n",
      "{'Style': ['Skateboarding'], 'Brand': ['Nike'], \"US Shoe Size (Men's)\": ['10.5']}\n",
      "{\"US Shoe Size (Men's)\": ['9'], 'Style': ['Cleats'], 'Width': ['Medium (D', ' M)'], 'Brand': ['Nike'], 'Color': ['Multi-Color']}\n",
      "{'Country/Region of Manufacture': ['China'], 'Brand': ['Nike'], 'Color': ['Sequoia Green-Infrared 23-Atomic Mango-Metallic Go'], 'Style': ['Basketball Shoes'], \"US Shoe Size (Men's)\": ['11'], 'Width': ['Medium (D', ' M)']}\n",
      "{'Brand': ['Nike'], 'Color': ['Black'], 'Pattern': ['FLYKNIT'], 'Style': ['Running', ' Cross Training'], \"US Shoe Size (Men's)\": ['13']}\n",
      "{'Style': ['Basketball Shoes'], \"US Shoe Size (Men's)\": ['8.5'], 'Brand': ['Nike']}\n",
      "{'Style': ['Running', ' Cross Training'], \"US Shoe Size (Men's)\": ['8'], 'Width': ['Medium (D', ' M)'], 'Brand': ['Nike'], 'Color': ['Multi-Color']}\n",
      "{'Style': ['Basketball Shoes'], 'Brand': ['Nike'], \"US Shoe Size (Men's)\": ['8']}\n",
      "{\"US Shoe Size (Men's)\": ['11'], 'Brand': ['Nike'], 'Style': ['Basketball Shoes']}\n",
      "{'Style': ['Running', ' Cross Training'], 'Color': ['Black Clear Jade'], 'Brand': ['Nike'], \"US Shoe Size (Men's)\": ['7.5']}\n",
      "{\"US Shoe Size (Men's)\": ['9.5'], 'Style': ['Basketball Shoes'], 'Brand': ['Nike']}\n",
      "{\"US Shoe Size (Men's)\": ['8.5'], 'Style': ['Running', ' Cross Training'], 'Brand': ['Nike']}\n"
     ]
    }
   ],
   "source": [
    "count = 0\n",
    "for d in tsv_data['attributes']:\n",
    "    if 'Brand' in d and (d['Brand'] != [] and d['Brand'][0] == 'Nike'):\n",
    "        count += 1\n",
    "        if count < 15:\n",
    "            print(d)"
   ]
  }
 ],
 "metadata": {
  "kernelspec": {
   "display_name": "Python 3",
   "language": "python",
   "name": "python3"
  },
  "language_info": {
   "codemirror_mode": {
    "name": "ipython",
    "version": 3
   },
   "file_extension": ".py",
   "mimetype": "text/x-python",
   "name": "python",
   "nbconvert_exporter": "python",
   "pygments_lexer": "ipython3",
   "version": "3.7.6"
  }
 },
 "nbformat": 4,
 "nbformat_minor": 4
}
